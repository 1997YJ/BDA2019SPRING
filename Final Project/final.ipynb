{
 "cells": [
  {
   "cell_type": "code",
   "execution_count": null,
   "metadata": {},
   "outputs": [],
   "source": [
    "import pandas as pd\n",
    "from datetime import date, datetime\n",
    "from dateutil.relativedelta import relativedelta\n",
    "import re\n",
    "import matplotlib.pyplot as plt\n",
    "import numpy as np\n",
    "from sklearn import model_selection, metrics, ensemble\n",
    "from sklearn.model_selection import StratifiedKFold\n",
    "import math\n",
    "import collections\n",
    "import time\n",
    "import pickle"
   ]
  },
  {
   "cell_type": "markdown",
   "metadata": {},
   "source": [
    "# Read Data"
   ]
  },
  {
   "cell_type": "markdown",
   "metadata": {},
   "source": [
    "### Data Arrays"
   ]
  },
  {
   "cell_type": "code",
   "execution_count": null,
   "metadata": {},
   "outputs": [],
   "source": [
    "member_np = pickle.load(open(\"./pickle/member_np.pickle\", \"rb\"))\n",
    "member_idx2hdr = pickle.load(open(\"./pickle/member_idx2hdr.pickle\", \"rb\"))\n",
    "member_hdr2idx = pickle.load(open(\"./pickle/member_hdr2idx.pickle\", \"rb\"))\n",
    "order_np = pickle.load(open(\"./pickle/order_np.pickle\", \"rb\"))\n",
    "order_idx2hdr = pickle.load(open(\"./pickle/order_idx2hdr.pickle\", \"rb\"))\n",
    "order_hdr2idx = pickle.load(open(\"./pickle/order_hdr2idx.pickle\", \"rb\"))\n",
    "# behavior_np = pickle.load(open(\"./pickle/behavior_np.pickle\", \"rb\"))\n",
    "behavior_np = pickle.load(open(\"./pickle/behavior_new_np.pickle\", \"rb\"))\n",
    "behavior_idx2hdr = pickle.load(open(\"./pickle/behavior_idx2hdr.pickle\", \"rb\"))\n",
    "behavior_hdr2idx = pickle.load(open(\"./pickle/behavior_hdr2idx.pickle\", \"rb\"))"
   ]
  },
  {
   "cell_type": "markdown",
   "metadata": {},
   "source": [
    "print (time.asctime( time.localtime(time.time()) ))\n",
    "behavior_new_np = behavior_np[(behavior_np[:,behavior_hdr2idx['OnlineMemberId']].astype(str))!='nan']\n",
    "print (time.asctime( time.localtime(time.time()) ))\n",
    "pickle.dump(behavior_new_np, open(\"./pickle/behavior_new_np.pickle\", \"wb\"))"
   ]
  },
  {
   "cell_type": "markdown",
   "metadata": {},
   "source": [
    "# Functions"
   ]
  },
  {
   "cell_type": "markdown",
   "metadata": {},
   "source": [
    "### Member Features"
   ]
  },
  {
   "cell_type": "code",
   "execution_count": null,
   "metadata": {},
   "outputs": [],
   "source": [
    "def insert_member_feature(member_np, member_hdr2idx):\n",
    "    out_np = member_np[:,member_hdr2idx['UUID']].reshape(-1,1)\n",
    "    hdr = ['UUID']\n",
    "#     print('There are {} members'.format(len(out_np)))\n",
    "\n",
    "    #Gender\n",
    "    new_np = member_np[:,member_hdr2idx['Gender']]\n",
    "    new_np = pd.DataFrame(new_np).fillna(0,inplace=False)\n",
    "    new_np = np.where(new_np=='Female',2,new_np).reshape(-1)\n",
    "    new_np = np.where(new_np=='Male'  ,1,new_np).reshape(-1)\n",
    "    new_np = new_np.reshape(-1,1)\n",
    "    out_np = np.append(out_np, new_np, axis=1)\n",
    "    hdr = np.append(hdr, ['Gender'], axis=0)\n",
    "\n",
    "    #Age\n",
    "    today = date.today()\n",
    "    r = re.compile(\".*1427.*\")\n",
    "    bd_list = member_np[:,member_hdr2idx['Birthday']]\n",
    "    list_new = list()\n",
    "    for i in range(len(bd_list)):\n",
    "        if r.match(bd_list[i]):\n",
    "            age = 0\n",
    "        elif int(bd_list[i][:4],10)<=1900:\n",
    "            age = 0\n",
    "        elif int(bd_list[i][:4],10)<1911:\n",
    "            age = today.year - int(bd_list[i][:4],10) - 1911\n",
    "        else:\n",
    "            age = today.year - pd.to_datetime(bd_list[i]).year\n",
    "        list_new.append(age)\n",
    "    new_np = np.array(list_new).reshape(-1,1)\n",
    "    out_np = np.append(out_np, new_np, axis=1)\n",
    "    hdr = np.append(hdr, ['Age'], axis=0)\n",
    "\n",
    "    #IsOnlineMember\n",
    "    new_np = member_np[:,member_hdr2idx['OnlineMemberId']]\n",
    "    new_np = pd.DataFrame(new_np).fillna(0,inplace=False)\n",
    "    new_np = np.where(new_np!=0,1,2).reshape(-1)\n",
    "    new_np = new_np.reshape(-1,1)\n",
    "    out_np = np.append(out_np, new_np, axis=1)\n",
    "    hdr = np.append(hdr, ['IsOnlineMember'], axis=0)\n",
    "    online_idx = np.where(new_np!=0)[0]\n",
    "#     out_np = out_np[online_idx,:]\n",
    "#     print('There are {} online members'.format(len(online_idx)))\n",
    "\n",
    "    #RegisterSource\n",
    "    type_list = list(set(member_np[:,member_hdr2idx['RegisterSourceTypeDef']]))\n",
    "    type_list = list(filter(lambda x: type(x)==str, type_list))\n",
    "    for tt in type_list:\n",
    "        new_np = member_np[:,member_hdr2idx['RegisterSourceTypeDef']]\n",
    "        new_np = pd.DataFrame(new_np).fillna(0,inplace=False)\n",
    "        new_np = np.where(new_np==tt,1,0).reshape(-1)\n",
    "        new_np = new_np.reshape(-1,1)\n",
    "        out_np = np.append(out_np, new_np, axis=1)\n",
    "        type_str = 'RegisterSourceTypeDef_' + tt\n",
    "        hdr = np.append(hdr, [type_str], axis=0)\n",
    "\n",
    "    #IsAppInstalled\n",
    "    new_np = member_np[:,member_hdr2idx['IsAppInstalled']]\n",
    "    new_np = pd.DataFrame(new_np).fillna(0,inplace=False)\n",
    "    new_np = np.where(new_np==True ,1,new_np).reshape(-1)\n",
    "    new_np = np.where(new_np==False,2,new_np).reshape(-1)\n",
    "    new_np = new_np.reshape(-1,1)\n",
    "    out_np = np.append(out_np, new_np, axis=1)\n",
    "    hdr = np.append(hdr, ['IsAppInstalled'], axis=0)\n",
    "\n",
    "    #MemberCardLevel\n",
    "    new_np = member_np[:,member_hdr2idx['MemberCardLevel']]\n",
    "    new_np = new_np.reshape(-1,1)\n",
    "    out_np = np.append(out_np, new_np, axis=1)\n",
    "    hdr = np.append(hdr, ['MemberCardLevel'], axis=0)\n",
    "\n",
    "    return out_np, hdr"
   ]
  },
  {
   "cell_type": "markdown",
   "metadata": {},
   "source": [
    "### Order Features"
   ]
  },
  {
   "cell_type": "code",
   "execution_count": null,
   "metadata": {},
   "outputs": [],
   "source": [
    "def insert_preorder_feature(order_np, order_hdr2idx, member_uuid):\n",
    "\n",
    "    #PreSalesAmt and PreBuyTimes\n",
    "    order_fin_np = order_np[(order_np[:,order_hdr2idx['Status']]=='New') | \n",
    "                            (order_np[:,order_hdr2idx['Status']]=='Finish')]\n",
    "    buy_uuid = order_fin_np[:,order_hdr2idx['UUID']]\n",
    "    buy_uuid_list = list(set(list(buy_uuid)))\n",
    "    buy_amt_dict = dict.fromkeys(buy_uuid_list,0)\n",
    "    buy_times_dict = dict.fromkeys(buy_uuid_list,0)\n",
    "    ttl_uuid = member_uuid\n",
    "    for n, uuid in enumerate(buy_uuid):\n",
    "        buy_amt_dict[uuid] = buy_amt_dict[uuid] + order_fin_np[n,order_hdr2idx['TotalSalesAmount']]\n",
    "        buy_times_dict[uuid] = buy_times_dict[uuid] + 1\n",
    "    list_new = list()\n",
    "    buy_times_list = list()\n",
    "#     is_pre_buy_list = list()\n",
    "    for uuid in member_uuid:\n",
    "        amt = buy_amt_dict.get(uuid, 0)\n",
    "        buy_times = buy_times_dict.get(uuid, 0)\n",
    "#         is_pre_buy = 1 if buy_times>0 else 0\n",
    "        list_new.append(amt)\n",
    "        buy_times_list.append(buy_times)\n",
    "#         is_pre_buy_list.append(is_pre_buy_list)\n",
    "    out_np = np.array(list_new).reshape(-1,1)\n",
    "    out_np = np.append(out_np, np.array(buy_times_list).reshape(-1,1), axis=1)\n",
    "#     out_np = np.append(out_np, np.array(is_pre_buy_list).reshape(-1,1), axis=1)\n",
    "    hdr = ['PreSalesAmt']\n",
    "    hdr = np.append(hdr, ['PreBuyTimes'], axis=0)\n",
    "#     hdr = np.append(hdr, ['IsPreBuy'], axis=0)\n",
    "\n",
    "    #ShopPeriod\n",
    "#     order_fin_np = order_sub_np[(order_sub_np[:,order_hdr2idx['Status']]=='New') | \n",
    "#                             (order_sub_np[:,order_hdr2idx['Status']]=='Finish')]\n",
    "#     buy_uuid = order_fin_np[:,order_hdr2idx['UUID']]\n",
    "#     buy_uuid_list = list(set(list(buy_uuid)))\n",
    "    shop_time_dict = dict()\n",
    "    for n, uuid in enumerate(buy_uuid):\n",
    "        if uuid not in shop_time_dict:\n",
    "            shop_time_dict[uuid] = list()\n",
    "        shop_time_dict[uuid].append(order_fin_np[n,order_hdr2idx['TradesDate']])\n",
    "    list_mean = list()\n",
    "    list_max = list()\n",
    "    list_min = list()\n",
    "    list_median = list()\n",
    "    for uuid in member_uuid:\n",
    "        shop_time = shop_time_dict.get(uuid, [0])\n",
    "        shop_time_list = sorted(shop_time)\n",
    "        ll = list()\n",
    "        for n in range(1, len(shop_time_list)):\n",
    "            diff = shop_time_list[n] - shop_time_list[n-1]\n",
    "            ll.append(diff.days)\n",
    "        ll = list(filter(lambda x: x!= 0, ll))\n",
    "        if len(ll)==0:\n",
    "            list_mean.append(0)\n",
    "            list_max.append(0)\n",
    "            list_min.append(0)\n",
    "            list_median.append(0)\n",
    "        else:\n",
    "            ll = np.array(ll)\n",
    "            list_mean.append(ll.mean())\n",
    "            list_max.append(ll.max())\n",
    "            list_min.append(ll.min())\n",
    "            list_median.append(np.median(ll))\n",
    "    out_np = np.append(out_np, np.array(list_mean).reshape(-1,1), axis=1)\n",
    "    out_np = np.append(out_np, np.array(list_max).reshape(-1,1), axis=1)\n",
    "    out_np = np.append(out_np, np.array(list_min).reshape(-1,1), axis=1)\n",
    "    out_np = np.append(out_np, np.array(list_median).reshape(-1,1), axis=1)\n",
    "    hdr = np.append(hdr, ['ShopPeriod_Mean'], axis=0)\n",
    "    hdr = np.append(hdr, ['ShopPeriod_Max'], axis=0)\n",
    "    hdr = np.append(hdr, ['ShopPeriod_Min'], axis=0)\n",
    "    hdr = np.append(hdr, ['ShopPeriod_Mediam'], axis=0)\n",
    "        \n",
    "    #PreStatusCnt\n",
    "    #'Cancel', 'Fail', 'Finish', 'New', 'Overdue', 'Return', 'Shipping'\n",
    "    #type_list = list(set(order_np[:,order_hdr2idx['Status']]))\n",
    "    type_list = ['Cancel', 'Fail', 'Finish', 'New', 'Overdue', 'Return', 'Shipping']\n",
    "    type_list = list(filter(lambda x: type(x)==str, type_list))\n",
    "    for tt in type_list:\n",
    "        row_idx = order_np[:, order_hdr2idx['Status']]==tt\n",
    "        order_uuid = order_np[row_idx, order_hdr2idx['UUID']]\n",
    "        mycollection = collections.Counter(order_uuid)\n",
    "        list_new = list()\n",
    "        for uuid in member_uuid:\n",
    "            bcnt=mycollection[uuid]\n",
    "            list_new.append(bcnt)  \n",
    "        out_np = np.append(out_np, np.array(list_new).reshape(-1,1), axis=1)\n",
    "        type_str = 'PreStatusCnt_' + tt\n",
    "        hdr = np.append(hdr, [type_str], axis=0)\n",
    "\n",
    "    #PreChannelTypeCnt\n",
    "    #'Mall', 'OfficialECom', 'Pos'\n",
    "    #type_list = list(set(order_np[:,order_hdr2idx['ChannelType']]))\n",
    "    type_list = ['Mall', 'OfficialECom', 'Pos']\n",
    "    type_list = list(filter(lambda x: type(x)==str, type_list))\n",
    "    for tt in type_list:\n",
    "        row_idx = order_np[:, order_hdr2idx['ChannelType']]==tt\n",
    "        order_uuid = order_np[row_idx, order_hdr2idx['UUID']]\n",
    "        mycollection = collections.Counter(order_uuid)\n",
    "        list_new = list()\n",
    "        for uuid in member_uuid:\n",
    "            bcnt=mycollection[uuid]\n",
    "            list_new.append(bcnt)  \n",
    "        out_np = np.append(out_np, np.array(list_new).reshape(-1,1), axis=1)\n",
    "        type_str = 'PreChannelTypeCnt_' + tt\n",
    "        hdr = np.append(hdr, [type_str], axis=0)\n",
    "    \n",
    "    #PrePaymentTypeCnt\n",
    "    #'ATM', 'Cash', 'CreditCardOnce', 'Family', 'LinePay', 'SevenEleven'\n",
    "    #type_list = list(set(order_np[:,order_hdr2idx['PaymentType']]))\n",
    "    type_list = ['ATM', 'Cash', 'CreditCardOnce', 'Family', 'LinePay', 'SevenEleven']\n",
    "    type_list = list(filter(lambda x: type(x)==str, type_list))\n",
    "    for tt in type_list:\n",
    "        row_idx = order_np[:, order_hdr2idx['PaymentType']]==tt\n",
    "        order_uuid = order_np[row_idx, order_hdr2idx['UUID']]\n",
    "        mycollection = collections.Counter(order_uuid)\n",
    "        list_new = list()\n",
    "        for uuid in member_uuid:\n",
    "            bcnt=mycollection[uuid]\n",
    "            list_new.append(bcnt)  \n",
    "        out_np = np.append(out_np, np.array(list_new).reshape(-1,1), axis=1)\n",
    "        type_str = 'PrePaymentTypeCnt_' + tt\n",
    "        hdr = np.append(hdr, [type_str], axis=0)\n",
    "\n",
    "    #PreShippingTypeCnt\n",
    "    #'Family', 'FamilyPickup', 'Home', 'LocationPickup', 'SevenEleven', 'SevenElevenPickup', 'Store'\n",
    "    #type_list = list(set(order_np[:,order_hdr2idx['ShippingType']]))\n",
    "    type_list = ['Family', 'FamilyPickup', 'Home', 'LocationPickup', 'SevenEleven', 'SevenElevenPickup', 'Store']\n",
    "    type_list = list(filter(lambda x: type(x)==str, type_list))\n",
    "    for tt in type_list:\n",
    "        row_idx = order_np[:, order_hdr2idx['ShippingType']]==tt\n",
    "        order_uuid = order_np[row_idx, order_hdr2idx['UUID']]\n",
    "        mycollection = collections.Counter(order_uuid)\n",
    "        list_new = list()\n",
    "        for uuid in member_uuid:\n",
    "            bcnt=mycollection[uuid]\n",
    "            list_new.append(bcnt)  \n",
    "        out_np = np.append(out_np, np.array(list_new).reshape(-1,1), axis=1)\n",
    "        type_str = 'PreShippingTypeCnt_' + tt\n",
    "        hdr = np.append(hdr, [type_str], axis=0)\n",
    "        \n",
    "    return out_np, hdr"
   ]
  },
  {
   "cell_type": "markdown",
   "metadata": {},
   "source": [
    "### Behavior Features"
   ]
  },
  {
   "cell_type": "code",
   "execution_count": null,
   "metadata": {},
   "outputs": [],
   "source": [
    "def insert_behavior_feature(behavior_np, behavior_hdr2idx, member_uuid, uuid2omid):\n",
    "    # HitTimes\n",
    "    ttl_uuid = member_uuid\n",
    "    behavior_omid = behavior_np[:,behavior_hdr2idx['OnlineMemberId']]\n",
    "    behavior_omid = list(behavior_omid[~pd.isnull(behavior_omid)])\n",
    "    mycollection = collections.Counter(behavior_omid)\n",
    "    list_new = list()\n",
    "    for uuid in ttl_uuid:\n",
    "        omid=uuid2omid[uuid]\n",
    "        bcnt=mycollection[omid]\n",
    "        list_new.append(bcnt)\n",
    "    out_np = np.array(list_new).reshape(-1,1)\n",
    "    hdr = ['HitTimes']\n",
    "    \n",
    "    #\n",
    "    aa = dict()\n",
    "    bb = dict()\n",
    "    cc = dict()\n",
    "    dd = dict()\n",
    "    ee = dict()\n",
    "    ff = dict()\n",
    "    gg = dict()\n",
    "    os0 = dict()\n",
    "    os1 = dict()\n",
    "    os2 = dict()\n",
    "    os3 = dict()\n",
    "    os4 = dict()\n",
    "    os5 = dict()\n",
    "    os6 = dict()\n",
    "    st0 = dict()\n",
    "    st1 = dict()\n",
    "    tsc0 = dict()\n",
    "    tsc1 = dict()\n",
    "    tsc2 = dict()\n",
    "    tsc3 = dict()\n",
    "    tsc4 = dict()\n",
    "    tsc5 = dict()\n",
    "    tsc6 = dict()\n",
    "    tsc7 = dict()\n",
    "    tsc8 = dict()\n",
    "    type_list = ['Cart', 'Fav', 'Purchase', 'Search', 'ViewSalePage', 'ViewSalePageCategory']\n",
    "    type_list_os = ['Android','Chrome OS','Intel Mac OS X','Linux','Ubuntu','Windows','iOS']\n",
    "    type_list_st = ['APP', 'WEB']\n",
    "    type_list_tsc = ['Direct','Email','Facebook','GoogleCpc',\n",
    "                     'GoogleOrganic','Instagram','Line','LineShopping','Others']\n",
    "    for n in range(len(behavior_np)):\n",
    "#         if not str(behavior_np[n,behavior_hdr2idx['OnlineMemberId']]) == 'nan':\n",
    "        omid = behavior_np[n,behavior_hdr2idx['OnlineMemberId']]\n",
    "        sn = behavior_np[n,behavior_hdr2idx['SessionNumber']]\n",
    "        if math.isnan(sn):\n",
    "            sn = 0\n",
    "        else:\n",
    "            sn = sn\n",
    "        gg[omid] = gg.get(omid,0) + sn\n",
    "        for tt in type_list:\n",
    "            if behavior_np[n,behavior_hdr2idx['BehaviorType']]==tt:\n",
    "                if tt == type_list[0]:\n",
    "                    aa[omid] = aa.get(omid,0) + 1\n",
    "                elif tt == type_list[1]:\n",
    "                    bb[omid] = bb.get(omid,0) + 1\n",
    "                elif tt == type_list[2]:\n",
    "                    cc[omid] = cc.get(omid,0) + 1\n",
    "                elif tt == type_list[3]:\n",
    "                    dd[omid] = dd.get(omid,0) + 1\n",
    "                elif tt == type_list[4]:\n",
    "                    ee[omid] = ee.get(omid,0) + 1\n",
    "                else:\n",
    "                    ff[omid] = ff.get(omid,0) + 1\n",
    "        for tt in type_list_tsc:\n",
    "            if behavior_np[n,behavior_hdr2idx['OperationSystem']]==tt:\n",
    "                if tt == type_list_tsc[0]:\n",
    "                    tsc0[omid] = tsc0.get(omid,0) + 1\n",
    "                elif tt == type_list_tsc[1]:\n",
    "                    tsc1[omid] = tsc1.get(omid,0) + 1\n",
    "                elif tt == type_list_tsc[2]:\n",
    "                    tsc2[omid] = tsc2.get(omid,0) + 1\n",
    "                elif tt == type_list_tsc[3]:\n",
    "                    tsc3[omid] = tsc3.get(omid,0) + 1\n",
    "                elif tt == type_list_tsc[4]:\n",
    "                    tsc4[omid] = tsc4.get(omid,0) + 1\n",
    "                elif tt == type_list_tsc[5]:\n",
    "                    tsc5[omid] = tsc5.get(omid,0) + 1\n",
    "                elif tt == type_list_tsc[6]:\n",
    "                    tsc6[omid] = tsc6.get(omid,0) + 1\n",
    "                elif tt == type_list_tsc[7]:\n",
    "                    tsc7[omid] = tsc7.get(omid,0) + 1\n",
    "                else:\n",
    "                    tsc8[omid] = tsc8.get(omid,0) + 1\n",
    "        for tt in type_list_os:\n",
    "            if behavior_np[n,behavior_hdr2idx['TrafficSourceCategory']]==tt:\n",
    "                if tt == type_list_os[0]:\n",
    "                    os0[omid] = os0.get(omid,0) + 1\n",
    "                elif tt == type_list_os[1]:\n",
    "                    os1[omid] = os1.get(omid,0) + 1\n",
    "                elif tt == type_list_os[2]:\n",
    "                    os2[omid] = os2.get(omid,0) + 1\n",
    "                elif tt == type_list_os[3]:\n",
    "                    os3[omid] = os3.get(omid,0) + 1\n",
    "                elif tt == type_list_os[4]:\n",
    "                    os4[omid] = os4.get(omid,0) + 1\n",
    "                elif tt == type_list_os[5]:\n",
    "                    os5[omid] = os5.get(omid,0) + 1\n",
    "                else:\n",
    "                    os6[omid] = os6.get(omid,0) + 1\n",
    "        for tt in type_list_st:\n",
    "            if behavior_np[n,behavior_hdr2idx['SourceType']]==tt:\n",
    "                if tt == type_list_st[0]:\n",
    "                    st0[omid] = st0.get(omid,0) + 1\n",
    "                else:\n",
    "                    st1[omid] = st1.get(omid,0) + 1\n",
    "\n",
    "    #SessionNumberCnt\n",
    "    list_new = list()\n",
    "    for uuid in member_uuid:\n",
    "        omid = uuid2omid[uuid]\n",
    "        bcnt = gg.get(omid,0)\n",
    "        list_new.append(bcnt)\n",
    "    out_np = np.append(out_np, np.array(list_new).reshape(-1,1), axis=1)\n",
    "    hdr = np.append(hdr, ['SessionNumberCnt'], axis=0)\n",
    "\n",
    "    #BehaviorTypeCnt\n",
    "    type_list = ['Direct','Email','Facebook','GoogleCpc',\n",
    "                 'GoogleOrganic','Instagram','Line','LineShopping','Others']\n",
    "    for tt in type_list:\n",
    "        list_new = list()\n",
    "        for uuid in member_uuid:\n",
    "            omid = uuid2omid[uuid]\n",
    "            if tt == type_list[0]:\n",
    "                bcnt= aa.get(omid,0)\n",
    "            elif tt == type_list[1]:\n",
    "                bcnt= bb.get(omid,0)\n",
    "            elif tt == type_list[2]:\n",
    "                bcnt= cc.get(omid,0)\n",
    "            elif tt == type_list[3]:\n",
    "                bcnt= dd.get(omid,0)\n",
    "            elif tt == type_list[4]:\n",
    "                bcnt= ee.get(omid,0)\n",
    "            else:\n",
    "                bcnt= ff.get(omid,0)\n",
    "            list_new.append(bcnt)  \n",
    "        out_np = np.append(out_np, np.array(list_new).reshape(-1,1), axis=1)\n",
    "        type_str = 'BehaviorTypeCnt_' + tt\n",
    "        hdr = np.append(hdr, [type_str], axis=0)\n",
    "\n",
    "    #TrafficSourceCategory\n",
    "    type_list = ['Cart', 'Fav', 'Purchase', 'Search', 'ViewSalePage', 'ViewSalePageCategory']\n",
    "    for tt in type_list:\n",
    "        list_new = list()\n",
    "        for uuid in member_uuid:\n",
    "            omid = uuid2omid[uuid]\n",
    "            if tt == type_list[0]:\n",
    "                bcnt = tsc0.get(omid,0)\n",
    "            elif tt == type_list[1]:\n",
    "                bcnt = tsc1.get(omid,0)\n",
    "            elif tt == type_list[2]:\n",
    "                bcnt = tsc2.get(omid,0)\n",
    "            elif tt == type_list[3]:\n",
    "                bcnt = tsc3.get(omid,0)\n",
    "            elif tt == type_list[4]:\n",
    "                bcnt = tsc4.get(omid,0)\n",
    "            elif tt == type_list[5]:\n",
    "                bcnt = tsc5.get(omid,0)\n",
    "            elif tt == type_list[6]:\n",
    "                bcnt = tsc6.get(omid,0)\n",
    "            elif tt == type_list[7]:\n",
    "                bcnt = tsc7.get(omid,0)\n",
    "            else:\n",
    "                bcnt = tsc8.get(omid,0)\n",
    "            list_new.append(bcnt)  \n",
    "        out_np = np.append(out_np, np.array(list_new).reshape(-1,1), axis=1)\n",
    "        type_str = 'TrafficSourceCategoryCnt_' + tt\n",
    "        hdr = np.append(hdr, [type_str], axis=0)\n",
    "    \n",
    "    #SourceType\n",
    "    type_list = ['APP', 'WEB']\n",
    "    for tt in type_list:\n",
    "        list_new = list()\n",
    "        for uuid in member_uuid:\n",
    "            omid = uuid2omid[uuid]\n",
    "            if tt == type_list[0]:\n",
    "                bnct = st0.get(omid,0)\n",
    "            else:\n",
    "                bcnt = st1.get(omid,0)\n",
    "            list_new.append(bcnt)  \n",
    "        out_np = np.append(out_np, np.array(list_new).reshape(-1,1), axis=1)\n",
    "        type_str = 'SourceTypeCnt_' + tt\n",
    "        hdr = np.append(hdr, [type_str], axis=0)\n",
    "        \n",
    "    #OperationSystemCnt\n",
    "    type_list = ['Android','Chrome OS','Intel Mac OS X','Linux','Ubuntu','Windows','iOS']\n",
    "    for tt in type_list:\n",
    "        list_new = list()\n",
    "        for uuid in member_uuid:\n",
    "            omid = uuid2omid[uuid]\n",
    "            if tt == type_list[0]:\n",
    "                bcnt= os0.get(omid,0)\n",
    "            elif tt == type_list[1]:\n",
    "                bcnt= os1.get(omid,0)\n",
    "            elif tt == type_list[2]:\n",
    "                bcnt= os2.get(omid,0)\n",
    "            elif tt == type_list[3]:\n",
    "                bcnt= os3.get(omid,0)\n",
    "            elif tt == type_list[4]:\n",
    "                bcnt= os4.get(omid,0)\n",
    "            elif tt == type_list[5]:\n",
    "                bcnt= os5.get(omid,0)\n",
    "            else:\n",
    "                bcnt = os6.get(omid,0)\n",
    "            list_new.append(bcnt)  \n",
    "        out_np = np.append(out_np, np.array(list_new).reshape(-1,1), axis=1)\n",
    "        type_str = 'OperationSystemCnt_' + tt\n",
    "        hdr = np.append(hdr, [type_str], axis=0)\n",
    "        \n",
    "    # OnlineTime\n",
    "#     behavior_np[:,behavior_hdr2idx['HitDateTime']] = pd.to_datetime(behavior_np[:,behavior_hdr2idx['HitDateTime']])\n",
    "    behavior_omid = behavior_np[:,behavior_hdr2idx['OnlineMemberId']]\n",
    "    online_time_dict = dict()\n",
    "    for n, omid in enumerate(behavior_omid):\n",
    "        if omid not in online_time_dict:\n",
    "            online_time_dict[omid] = list()\n",
    "        online_time_dict[omid].append(behavior_np[n,behavior_hdr2idx['HitDateTime']])\n",
    "\n",
    "    list_mean = list()\n",
    "    list_max = list()\n",
    "    list_min = list()\n",
    "    list_median = list()\n",
    "    for uuid in member_uuid:\n",
    "        omid = uuid2omid[uuid]\n",
    "        online_time = online_time_dict.get(omid,[0])\n",
    "        online_time = sorted(online_time)\n",
    "        ll = list()\n",
    "        for n in range(1, len(online_time)):\n",
    "            diff = online_time[n] - online_time[n-1]\n",
    "            if (diff.seconds < 36000): # 10hrs\n",
    "                ll.append(diff.seconds)\n",
    "        ll = list(filter(lambda x: x!= 0, ll))\n",
    "        if len(ll)==0:\n",
    "            list_mean.append(0)\n",
    "            list_max.append(0)\n",
    "            list_min.append(0)\n",
    "            list_median.append(0)\n",
    "        else:\n",
    "            ll = np.array(ll)\n",
    "            list_mean.append(ll.mean())\n",
    "            list_max.append(ll.max())\n",
    "            list_min.append(ll.min())\n",
    "            list_median.append(np.median(ll))\n",
    "    out_np = np.append(out_np, np.array(list_mean).reshape(-1,1), axis=1)\n",
    "    out_np = np.append(out_np, np.array(list_max).reshape(-1,1), axis=1)\n",
    "    out_np = np.append(out_np, np.array(list_min).reshape(-1,1), axis=1)\n",
    "    out_np = np.append(out_np, np.array(list_median).reshape(-1,1), axis=1)\n",
    "    hdr = np.append(hdr, ['OnlineTime_Mean'], axis=0)\n",
    "    hdr = np.append(hdr, ['OnlineTime_Max'], axis=0)\n",
    "    hdr = np.append(hdr, ['OnlineTime_Min'], axis=0)\n",
    "    hdr = np.append(hdr, ['OnlineTime_Mediam'], axis=0)\n",
    "\n",
    "    return out_np, hdr"
   ]
  },
  {
   "cell_type": "markdown",
   "metadata": {},
   "source": [
    "### Others"
   ]
  },
  {
   "cell_type": "code",
   "execution_count": null,
   "metadata": {},
   "outputs": [],
   "source": [
    "def is_uuid_buy(buy_uuid, member_uuid):\n",
    "    is_buy_uuid = list()\n",
    "    buy_uuid_set = set(buy_uuid)\n",
    "    for uuid in member_uuid:\n",
    "        if uuid in buy_uuid_set:\n",
    "            is_buy_uuid.append(True)\n",
    "        else:\n",
    "            is_buy_uuid.append(False)\n",
    "    return is_buy_uuid"
   ]
  },
  {
   "cell_type": "code",
   "execution_count": null,
   "metadata": {},
   "outputs": [],
   "source": [
    "def filter_zeros(feature_array, tag_list):\n",
    "    zero_row_idx = list()\n",
    "    zero_array = np.array([0]*(train_np.shape[1]-17))\n",
    "    not_zero_row_idx = list()\n",
    "    for n in range(train_np.shape[0]):\n",
    "        if not np.allclose(train_np[n,17:].astype(float),zero_array):\n",
    "            not_zero_row_idx.append(n)\n",
    "    not_zero_row_idx = np.array(not_zero_row_idx)\n",
    "    tag_list = np.array(tag_list)\n",
    "    tags = tag_list[not_zero_row_idx]\n",
    "    features = feature_array[not_zero_row_idx,:]\n",
    "    print ('Org len={}'.format(len(tag_list)), end=' ')\n",
    "    print ('Fltd len={}'.format(len(tags)))\n",
    "    return features, tags"
   ]
  },
  {
   "cell_type": "code",
   "execution_count": null,
   "metadata": {},
   "outputs": [],
   "source": [
    "def trunc_len(train_np, is_buy_uuid):\n",
    "    is_buy_uuid = np.array(is_buy_uuid)\n",
    "    buy_len = len(is_buy_uuid[is_buy_uuid==True])\n",
    "    nobuy_idx = np.where(is_buy_uuid==False)[0][0:int(buy_len/4)]\n",
    "    buy_idx = np.where(is_buy_uuid==True)[0]\n",
    "    nobuy_train_np = train_np[nobuy_idx,:]\n",
    "    buy_train_np = train_np[buy_idx,:]\n",
    "    train_new_np = np.append(nobuy_train_np, buy_train_np, axis=0)\n",
    "    is_buy_new_np = np.append(np.array([False]*len(nobuy_train_np)).T, np.array([True]*len(buy_train_np)).T, axis=0)\n",
    "    print('Train Len={}'.format(len(is_buy_new_np)))\n",
    "    return train_new_np, is_buy_new_np"
   ]
  },
  {
   "cell_type": "markdown",
   "metadata": {},
   "source": [
    "# Parameters"
   ]
  },
  {
   "cell_type": "code",
   "execution_count": null,
   "metadata": {},
   "outputs": [],
   "source": [
    "order_beg = sorted(order_np[:,order_hdr2idx['TradesDate']])[0]\n",
    "order_end = sorted(order_np[:,order_hdr2idx['TradesDate']])[-1]\n",
    "for n in range(11):\n",
    "    order_end = pd.to_datetime(order_end) - relativedelta(months=3)\n",
    "    train_beg = order_end - relativedelta(months=3)\n",
    "    ptrain_beg = train_beg - relativedelta(months=3)\n",
    "    print('{}\\t{}\\t{}'.format(order_end,train_beg,ptrain_beg))"
   ]
  },
  {
   "cell_type": "markdown",
   "metadata": {},
   "source": [
    "### Train"
   ]
  },
  {
   "cell_type": "code",
   "execution_count": null,
   "metadata": {},
   "outputs": [],
   "source": [
    "train_set_num = 3\n",
    "order_strt_date = '2016-1-1' # fixed order\n",
    "train_strt_date = '2019-1-1'\n",
    "train_mon = 1\n",
    "train_pre_mon = 3\n",
    "train_strt_date_list = [train_strt_date]\n",
    "for n in range(train_set_num-1):\n",
    "    train_strt_date = pd.to_datetime(train_strt_date) - relativedelta(months=train_mon+2)\n",
    "    train_strt_date = train_strt_date.strftime('%Y-%m-%d')\n",
    "    train_strt_date_list.append(train_strt_date)\n",
    "\n",
    "train_end_date_list = list()\n",
    "train_pre_strt_date_list = list()\n",
    "train_pre_end_date_list = list()\n",
    "for n in range(len(train_strt_date_list)):\n",
    "    train_strt_date = train_strt_date_list[n]\n",
    "    train_end_date = pd.to_datetime(train_strt_date) + relativedelta(months=train_mon)\n",
    "    train_end_date = train_end_date.strftime('%Y-%m-%d')\n",
    "    train_pre_strt_date = pd.to_datetime(train_strt_date) - relativedelta(months=train_pre_mon)\n",
    "    train_pre_strt_date = train_pre_strt_date.strftime('%Y-%m-%d')\n",
    "    train_pre_end_date = train_strt_date\n",
    "    print('Training: Start {}, End {}'.format(train_strt_date, train_end_date), end=' ')\n",
    "    print('Training: Pre Start {}, End {}'.format(train_pre_strt_date, train_pre_end_date))\n",
    "    train_end_date_list.append(train_end_date)\n",
    "    train_pre_strt_date_list.append(train_pre_strt_date)\n",
    "    train_pre_end_date_list.append(train_pre_end_date)"
   ]
  },
  {
   "cell_type": "markdown",
   "metadata": {},
   "source": [
    "### Test"
   ]
  },
  {
   "cell_type": "code",
   "execution_count": null,
   "metadata": {},
   "outputs": [],
   "source": [
    "test_mon = 1\n",
    "test_pre_mon = 3\n",
    "test_strt_date = pd.to_datetime(train_end_date_list[0]) + relativedelta(months=2)\n",
    "test_strt_date = test_strt_date.strftime('%Y-%m-%d')\n",
    "test_end_date = pd.to_datetime(test_strt_date) + relativedelta(months=test_mon)\n",
    "test_end_date = test_end_date.strftime('%Y-%m-%d')\n",
    "test_pre_strt_date = pd.to_datetime(test_strt_date) - relativedelta(months=test_pre_mon)\n",
    "test_pre_strt_date = test_pre_strt_date.strftime('%Y-%m-%d')\n",
    "test_pre_end_date = test_strt_date\n",
    "print('Testing: Start {}, End {}'.format(test_strt_date, test_end_date))\n",
    "print('Testing: Pre Start {}, End {}'.format(test_pre_strt_date, test_pre_end_date))"
   ]
  },
  {
   "cell_type": "markdown",
   "metadata": {},
   "source": [
    "# Training"
   ]
  },
  {
   "cell_type": "markdown",
   "metadata": {},
   "source": [
    "## Train 1"
   ]
  },
  {
   "cell_type": "markdown",
   "metadata": {},
   "source": [
    "### Features"
   ]
  },
  {
   "cell_type": "code",
   "execution_count": null,
   "metadata": {},
   "outputs": [],
   "source": [
    "def train_set(member_np, member_hdr2idx, order_np, order_hdr2idx, behavior_np, behavior_hdr2idx, \n",
    "             order_strt_date, train_pre_strt_date, train_pre_end_date,\n",
    "             train_strt_date, train_end_date):\n",
    "\n",
    "    ##### Member Info\n",
    "\n",
    "    member_np[:,member_hdr2idx['RegisterDate']] = pd.to_datetime(member_np[:,member_hdr2idx['RegisterDate']])\n",
    "    member_sub_np = member_np[\n",
    "        (member_np[:,member_hdr2idx['RegisterDate']] >= datetime.strptime(order_strt_date, '%Y-%m-%d')) &\n",
    "        (member_np[:,member_hdr2idx['RegisterDate']] <  datetime.strptime(train_pre_end_date, '%Y-%m-%d'))\n",
    "    ]\n",
    "    print (time.asctime( time.localtime(time.time()) ))\n",
    "    print ('\\tMember Start Date {}'.format(order_strt_date), end=' ')\n",
    "    print ('End Date {}'.format(train_pre_end_date))\n",
    "    print ('\\tTraining Pre Start Date {}'.format(train_pre_strt_date), end=' ')\n",
    "    print ('End Date {}'.format(train_pre_end_date))\n",
    "\n",
    "    member_new_np, member_new_hdr = insert_member_feature(member_sub_np, member_hdr2idx)\n",
    "    print ('\\tMember number {}'.format(len(member_new_np)),end=' ')\n",
    "    # member_df[member_df['IsEnablePushNotification']==False]\n",
    "\n",
    "    ##### Previous Order Info\n",
    "\n",
    "    # order_df.head()\n",
    "\n",
    "    # set(list(order_df['ShippingType']))\n",
    "\n",
    "    order_np[:,order_hdr2idx['TradesDate']] = pd.to_datetime(order_np[:,order_hdr2idx['TradesDate']])\n",
    "    order_sub_np = order_np[\n",
    "        (order_np[:,order_hdr2idx['TradesDate']] >= datetime.strptime(train_pre_strt_date, '%Y-%m-%d')) &\n",
    "        (order_np[:,order_hdr2idx['TradesDate']] <  datetime.strptime(train_pre_end_date, '%Y-%m-%d'))\n",
    "    ]\n",
    "    print ('Order number {}'.format(len(order_sub_np)),end=' ')\n",
    "    member_uuid = member_sub_np[:,member_hdr2idx['UUID']]\n",
    "    preorder_new_np, preorder_new_hdr = insert_preorder_feature(order_sub_np, order_hdr2idx, member_uuid)\n",
    "\n",
    "    # preorder_new_np[1,:]\n",
    "    # len(preorder_new_hdr)\n",
    "\n",
    "    ##### Behavior Info\n",
    "\n",
    "    behavior_np[:,behavior_hdr2idx['HitDateTime']] = pd.to_datetime(behavior_np[:,behavior_hdr2idx['HitDateTime']])\n",
    "    behavior_sub_np = behavior_np[\n",
    "        (behavior_np[:,behavior_hdr2idx['HitDateTime']] >= datetime.strptime(train_pre_strt_date, '%Y-%m-%d')) &\n",
    "        (behavior_np[:,behavior_hdr2idx['HitDateTime']] <  datetime.strptime(train_pre_end_date, '%Y-%m-%d'))\n",
    "    ]\n",
    "    print ('Behavior number {}'.format(len(behavior_sub_np)))\n",
    "\n",
    "# #     pickle.dump(behavior_sub_np, open(\"./pickle/behavior_sub_np.pickle\", \"wb\"))\n",
    "# #     behavior_sub_np = pickle.load(open(\"./pickle/behavior_sub_np.pickle\", \"rb\"))\n",
    "\n",
    "    ttl_uuid = member_np[:,member_hdr2idx['UUID']]\n",
    "    uuid2omid = dict()\n",
    "    for n, uuid in enumerate(ttl_uuid):\n",
    "        uuid2omid[uuid] = member_np[n,member_hdr2idx['OnlineMemberId']]\n",
    "    behavior_new_np, behavior_new_hdr = insert_behavior_feature(\n",
    "        behavior_sub_np, behavior_hdr2idx, member_uuid, uuid2omid)\n",
    "\n",
    "    ##### Training Info\n",
    "\n",
    "    train_np = np.append(member_new_np, preorder_new_np, axis=1)\n",
    "    train_np = np.append(train_np, behavior_new_np, axis=1)\n",
    "\n",
    "    train_hdr = np.append(member_new_hdr, preorder_new_hdr, axis=0)\n",
    "    train_hdr = np.append(train_hdr, behavior_new_hdr, axis=0)\n",
    "    train_hdr2idx = dict((hdr, idx) for idx, hdr in enumerate(train_hdr))\n",
    "    print('\\tThere are {} features'.format(len(train_hdr2idx)))\n",
    "\n",
    "#     print (time.asctime( time.localtime(time.time()) ))\n",
    "\n",
    "    ### Tags\n",
    "\n",
    "    order_sub_np = order_np[(order_np[:,order_hdr2idx['Status']]=='New') | \n",
    "                            (order_np[:,order_hdr2idx['Status']]=='Finish')]\n",
    "\n",
    "    order_sub_np[:,order_hdr2idx['TradesDate']] = pd.to_datetime(order_sub_np[:,order_hdr2idx['TradesDate']])\n",
    "    order_train_np = order_sub_np[\n",
    "        (order_sub_np[:,order_hdr2idx['TradesDate']] >= datetime.strptime(train_strt_date, '%Y-%m-%d')) &\n",
    "        (order_sub_np[:,order_hdr2idx['TradesDate']] <  datetime.strptime(train_end_date, '%Y-%m-%d'))\n",
    "    ]\n",
    "    print ('\\tTraining Start Date {}'.format(train_strt_date), end=' ')\n",
    "    print ('End Date {}'.format(train_end_date))\n",
    "\n",
    "    buy_uuid = order_train_np[:,order_hdr2idx['UUID']]\n",
    "    ttl_uuid = train_np[:,train_hdr2idx['UUID']]\n",
    "    is_buy_uuid = is_uuid_buy(buy_uuid, ttl_uuid)\n",
    "\n",
    "    unique, counts = np.unique(is_buy_uuid, return_counts=True)\n",
    "    print('\\tnobuy={} ({:.2f}), buy={} ({:.2f})'.format(counts[0], counts[0]/counts.sum(),\n",
    "                                                      counts[1], counts[1]/counts.sum()))\n",
    "\n",
    "    print (time.asctime( time.localtime(time.time()) ))\n",
    "    return train_np, train_hdr2idx, is_buy_uuid"
   ]
  },
  {
   "cell_type": "code",
   "execution_count": null,
   "metadata": {},
   "outputs": [],
   "source": [
    "for n in range(train_set_num):\n",
    "    print('Traning {}/{}'.format(n+1,train_set_num))\n",
    "    train_np, train_hdr2idx, is_buy_uuid = train_set(\n",
    "        member_np, member_hdr2idx, order_np, order_hdr2idx, behavior_np, behavior_hdr2idx, \n",
    "        order_strt_date, train_pre_strt_date_list[n], train_pre_end_date_list[n],\n",
    "        train_strt_date_list[n], train_end_date_list[n])\n",
    "    train_np,is_buy_uuid = filter_zeros(train_np,is_buy_uuid)\n",
    "    if n==0:\n",
    "        train_new_np = train_np[:,1:]\n",
    "        is_buy_new_np = np.array(is_buy_uuid)\n",
    "    else:\n",
    "        train_new_np = np.append(train_new_np, train_np[:,1:], axis=0)\n",
    "        is_buy_new_np = np.append(is_buy_new_np, np.array(is_buy_uuid), axis=0)"
   ]
  },
  {
   "cell_type": "markdown",
   "metadata": {},
   "source": [
    "### Random Forest"
   ]
  },
  {
   "cell_type": "code",
   "execution_count": null,
   "metadata": {},
   "outputs": [],
   "source": [
    "# trans_x = train_new_np\n",
    "# y = is_buy_new_np\n",
    "trans_x, y = trunc_len(train_new_np, is_buy_new_np)"
   ]
  },
  {
   "cell_type": "code",
   "execution_count": null,
   "metadata": {},
   "outputs": [],
   "source": [
    "# for n in range(69):\n",
    "#     found = pd.DataFrame(trans_x[:,n]).isnull().values.any()\n",
    "#     print('{} {}'.format(n,found))"
   ]
  },
  {
   "cell_type": "code",
   "execution_count": null,
   "metadata": {},
   "outputs": [],
   "source": [
    "kf = StratifiedKFold(n_splits=3, random_state=0, shuffle=False)\n",
    "print(kf)\n",
    "forest = ensemble.RandomForestClassifier(n_estimators = 100)\n",
    "for train_index, test_index in kf.split(trans_x,y):\n",
    "    X_train, X_test = trans_x[train_index], trans_x[test_index]\n",
    "    y_train, y_test = y[train_index], y[test_index]\n",
    "    forest_fit = forest.fit(X_train, y_train)\n",
    "    test_y_predicted = forest.predict(X_test)\n",
    "    target_name = ['NoBuy', 'Buy']\n",
    "    print(metrics.classification_report(y_test, test_y_predicted, target_names=target_name))\n",
    "    accuracy = metrics.accuracy_score(y_test, test_y_predicted)\n",
    "    print('Accuracy=',accuracy)"
   ]
  },
  {
   "cell_type": "code",
   "execution_count": null,
   "metadata": {},
   "outputs": [],
   "source": [
    "print (time.asctime( time.localtime(time.time()) ))"
   ]
  },
  {
   "cell_type": "markdown",
   "metadata": {},
   "source": [
    "# Test"
   ]
  },
  {
   "cell_type": "markdown",
   "metadata": {},
   "source": [
    "### Features"
   ]
  },
  {
   "cell_type": "markdown",
   "metadata": {},
   "source": [
    "##### Member Info"
   ]
  },
  {
   "cell_type": "code",
   "execution_count": null,
   "metadata": {},
   "outputs": [],
   "source": [
    "member_np[:,member_hdr2idx['RegisterDate']] = pd.to_datetime(member_np[:,member_hdr2idx['RegisterDate']])\n",
    "member_sub_np = member_np[\n",
    "    (member_np[:,member_hdr2idx['RegisterDate']] >= datetime.strptime(order_strt_date, '%Y-%m-%d')) &\n",
    "    (member_np[:,member_hdr2idx['RegisterDate']] <  datetime.strptime(test_pre_end_date, '%Y-%m-%d'))\n",
    "]"
   ]
  },
  {
   "cell_type": "code",
   "execution_count": null,
   "metadata": {},
   "outputs": [],
   "source": [
    "member_test_np, member_test_hdr = insert_member_feature(member_sub_np,member_hdr2idx)"
   ]
  },
  {
   "cell_type": "markdown",
   "metadata": {},
   "source": [
    "##### Previous Order Info"
   ]
  },
  {
   "cell_type": "code",
   "execution_count": null,
   "metadata": {},
   "outputs": [],
   "source": [
    "order_np[:,order_hdr2idx['TradesDate']] = pd.to_datetime(order_np[:,order_hdr2idx['TradesDate']])\n",
    "order_sub_np = order_np[\n",
    "    (order_np[:,order_hdr2idx['TradesDate']] >= datetime.strptime(test_pre_strt_date, '%Y-%m-%d')) &\n",
    "    (order_np[:,order_hdr2idx['TradesDate']] <  datetime.strptime(test_pre_end_date, '%Y-%m-%d'))\n",
    "]"
   ]
  },
  {
   "cell_type": "code",
   "execution_count": null,
   "metadata": {},
   "outputs": [],
   "source": [
    "member_uuid = member_sub_np[:,member_hdr2idx['UUID']]\n",
    "preorder_test_np, preorder_test_hdr = insert_preorder_feature(order_sub_np, order_hdr2idx, member_uuid)"
   ]
  },
  {
   "cell_type": "code",
   "execution_count": null,
   "metadata": {},
   "outputs": [],
   "source": [
    "# len(preorder_test_hdr)"
   ]
  },
  {
   "cell_type": "markdown",
   "metadata": {},
   "source": [
    "##### Behavior Info"
   ]
  },
  {
   "cell_type": "code",
   "execution_count": null,
   "metadata": {},
   "outputs": [],
   "source": [
    "behavior_np[:,behavior_hdr2idx['HitDateTime']] = pd.to_datetime(behavior_np[:,behavior_hdr2idx['HitDateTime']])\n",
    "behavior_sub_np = behavior_np[\n",
    "    (behavior_np[:,behavior_hdr2idx['HitDateTime']] >= datetime.strptime(test_pre_strt_date, '%Y-%m-%d')) &\n",
    "    (behavior_np[:,behavior_hdr2idx['HitDateTime']] <  datetime.strptime(test_pre_end_date, '%Y-%m-%d'))\n",
    "]"
   ]
  },
  {
   "cell_type": "code",
   "execution_count": null,
   "metadata": {},
   "outputs": [],
   "source": [
    "ttl_uuid = member_np[:,member_hdr2idx['UUID']]\n",
    "uuid2omid = dict()\n",
    "for n, uuid in enumerate(ttl_uuid):\n",
    "    uuid2omid[uuid] = member_np[n,member_hdr2idx['OnlineMemberId']]\n",
    "behavior_test_np, behavior_test_hdr = insert_behavior_feature(\n",
    "    behavior_sub_np, behavior_hdr2idx, member_uuid, uuid2omid)"
   ]
  },
  {
   "cell_type": "markdown",
   "metadata": {},
   "source": [
    "##### Test Info"
   ]
  },
  {
   "cell_type": "code",
   "execution_count": null,
   "metadata": {},
   "outputs": [],
   "source": [
    "test_np = np.append(member_test_np, preorder_test_np, axis=1)\n",
    "test_np = np.append(test_np, behavior_test_np, axis=1)\n",
    "# test_np"
   ]
  },
  {
   "cell_type": "code",
   "execution_count": null,
   "metadata": {},
   "outputs": [],
   "source": [
    "test_hdr = np.append(member_test_hdr, preorder_test_hdr, axis=0)\n",
    "test_hdr = np.append(test_hdr, behavior_test_hdr, axis=0)\n",
    "test_hdr2idx = dict((hdr, idx) for idx, hdr in enumerate(test_hdr))\n",
    "# test_hdr2idx\n",
    "print('There are {} features'.format(len(test_hdr2idx)))"
   ]
  },
  {
   "cell_type": "code",
   "execution_count": null,
   "metadata": {},
   "outputs": [],
   "source": [
    "print (time.asctime( time.localtime(time.time()) ))"
   ]
  },
  {
   "cell_type": "markdown",
   "metadata": {},
   "source": [
    "### Tags"
   ]
  },
  {
   "cell_type": "code",
   "execution_count": null,
   "metadata": {},
   "outputs": [],
   "source": [
    "order_sub_np = order_np[(order_np[:,order_hdr2idx['Status']]=='New') | (order_np[:,order_hdr2idx['Status']]=='Finish')]"
   ]
  },
  {
   "cell_type": "code",
   "execution_count": null,
   "metadata": {},
   "outputs": [],
   "source": [
    "order_sub_np[:,order_hdr2idx['TradesDate']] = pd.to_datetime(order_sub_np[:,order_hdr2idx['TradesDate']])\n",
    "order_test_np = order_sub_np[\n",
    "    (order_sub_np[:,order_hdr2idx['TradesDate']] >= datetime.strptime(test_strt_date, '%Y-%m-%d')) &\n",
    "    (order_sub_np[:,order_hdr2idx['TradesDate']] <  datetime.strptime(test_end_date, '%Y-%m-%d'))\n",
    "]"
   ]
  },
  {
   "cell_type": "code",
   "execution_count": null,
   "metadata": {},
   "outputs": [],
   "source": [
    "buy_uuid = order_test_np[:,order_hdr2idx['UUID']]\n",
    "ttl_uuid = test_np[:,test_hdr2idx['UUID']]\n",
    "is_buy_uuid = is_uuid_buy(buy_uuid, ttl_uuid)"
   ]
  },
  {
   "cell_type": "code",
   "execution_count": null,
   "metadata": {},
   "outputs": [],
   "source": [
    "test_np,is_buy_uuid = filter_zeros(test_np,is_buy_uuid)"
   ]
  },
  {
   "cell_type": "code",
   "execution_count": null,
   "metadata": {},
   "outputs": [],
   "source": [
    "unique, counts = np.unique(is_buy_uuid, return_counts=True)\n",
    "print('nobuy={:.2f}, buy={:.2f}'.format(counts[0]/counts.sum(),counts[1]/counts.sum()))"
   ]
  },
  {
   "cell_type": "code",
   "execution_count": null,
   "metadata": {},
   "outputs": [],
   "source": [
    "print (time.asctime( time.localtime(time.time()) ))"
   ]
  },
  {
   "cell_type": "markdown",
   "metadata": {},
   "source": [
    "### Random Forest Predict"
   ]
  },
  {
   "cell_type": "code",
   "execution_count": null,
   "metadata": {},
   "outputs": [],
   "source": [
    "actual_y = is_buy_uuid\n",
    "predict_y = forest.predict(test_np[:,1:])"
   ]
  },
  {
   "cell_type": "code",
   "execution_count": null,
   "metadata": {},
   "outputs": [],
   "source": [
    "accuracy = metrics.accuracy_score(actual_y, predict_y)\n",
    "target_name = ['NoBuy', 'Buy']\n",
    "print(metrics.classification_report(actual_y, predict_y, target_names=target_name))\n",
    "print('Tested accuracy = {}'.format(accuracy))"
   ]
  },
  {
   "cell_type": "code",
   "execution_count": null,
   "metadata": {},
   "outputs": [],
   "source": [
    "print (time.asctime( time.localtime(time.time()) ))"
   ]
  },
  {
   "cell_type": "code",
   "execution_count": null,
   "metadata": {},
   "outputs": [],
   "source": [
    "unique, counts = np.unique(predict_y, return_counts=True)\n",
    "print('nobuy={:.2f}, buy={:.2f}'.format(counts[0]/counts.sum(),counts[1]/counts.sum()))"
   ]
  },
  {
   "cell_type": "code",
   "execution_count": null,
   "metadata": {},
   "outputs": [],
   "source": []
  }
 ],
 "metadata": {
  "kernelspec": {
   "display_name": "Python 3",
   "language": "python",
   "name": "python3"
  },
  "language_info": {
   "codemirror_mode": {
    "name": "ipython",
    "version": 3
   },
   "file_extension": ".py",
   "mimetype": "text/x-python",
   "name": "python",
   "nbconvert_exporter": "python",
   "pygments_lexer": "ipython3",
   "version": "3.7.2"
  }
 },
 "nbformat": 4,
 "nbformat_minor": 2
}
